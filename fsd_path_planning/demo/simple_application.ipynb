{
 "cells": [
  {
   "attachments": {},
   "cell_type": "markdown",
   "metadata": {},
   "source": [
    "# Simple application of ft-fsd-path-planning\n",
    "\n",
    "This notebook shows how to use the ft-fsd-path-planning package to calculate a centerline\n",
    "given the car's position and direction as well as the cone positions (and optionally the colors)"
   ]
  },
  {
   "attachments": {},
   "cell_type": "markdown",
   "metadata": {},
   "source": [
    "## Data generation\n",
    "\n",
    "We will generate a simple track with a constant curvature and a few cones."
   ]
  },
  {
   "cell_type": "code",
   "execution_count": 2,
   "metadata": {},
   "outputs": [],
   "source": [
    "import numpy as np\n",
    "from fsd_path_planning.utils.math_utils import unit_2d_vector_from_angle, rotate\n",
    "from fsd_path_planning.utils.cone_types import ConeTypes\n",
    "import pandas as pd\n"
   ]
  },
  {
   "cell_type": "code",
   "execution_count": 3,
   "metadata": {},
   "outputs": [],
   "source": [
    "phi_inner = np.arange(0, np.pi / 2, np.pi / 20)\n",
    "phi_outer = np.arange(0, np.pi / 2, np.pi / 25)\n",
    "\n",
    "points_inner = unit_2d_vector_from_angle(phi_inner) * 9\n",
    "points_outer = unit_2d_vector_from_angle(phi_outer) * 12\n",
    "\n",
    "center = np.mean((points_inner[:2] + points_outer[:2]) / 2, axis=0)\n",
    "points_inner -= center\n",
    "points_outer -= center\n",
    "\n",
    "rotated_points_inner = rotate(points_inner, -np.pi / 2)\n",
    "rotated_points_outer = rotate(points_outer, -np.pi / 2)\n",
    "cones_left_raw = rotated_points_inner\n",
    "cones_right_raw = rotated_points_outer\n",
    "\n",
    "\n",
    "rng = np.random.default_rng(0)\n",
    "rng.shuffle(cones_left_raw)\n",
    "rng.shuffle(cones_right_raw)\n",
    "\n",
    "\n",
    "car_position = np.array([0.0, 0.0])\n",
    "car_direction = np.array([1.0, 0.0])\n"
   ]
  },
  {
   "attachments": {},
   "cell_type": "markdown",
   "metadata": {},
   "source": [
    "## Color information\n",
    "\n",
    "The algorithm can work without knowing the colors of the cones. However, if the colors are known, the algorithm can use them to improve the result. In the following cell we will overwrite the color information of some cones. If you want to keep the color information comment out the relevant lines in the following cell."
   ]
  },
  {
   "cell_type": "code",
   "execution_count": 4,
   "metadata": {},
   "outputs": [],
   "source": [
    "mask_is_left = np.ones(len(cones_left_raw), dtype=bool)\n",
    "mask_is_right = np.ones(len(cones_right_raw), dtype=bool)\n",
    "\n",
    "# for demonstration purposes, we will only keep the color of the first 4 cones\n",
    "# on each side\n",
    "mask_is_left[np.argsort(np.linalg.norm(cones_left_raw, axis=1))[20:]] = False\n",
    "mask_is_right[np.argsort(np.linalg.norm(cones_right_raw, axis=1))[20:]] = False\n",
    "\n",
    "cones_left = cones_left_raw[mask_is_left]\n",
    "cones_right = cones_right_raw[mask_is_right]\n",
    "cones_unknown = np.row_stack(\n",
    "    [cones_left_raw[~mask_is_left], cones_right_raw[~mask_is_right]]\n",
    ")\n"
   ]
  },
  {
   "attachments": {},
   "cell_type": "markdown",
   "metadata": {},
   "source": [
    "## Visualization\n",
    "\n",
    "The following cell visualizes the track and the cones. The cones are colored according to their color information. If a cone has no color information, it is colored black."
   ]
  },
  {
   "cell_type": "code",
   "execution_count": 5,
   "metadata": {},
   "outputs": [
    {
     "data": {
      "text/plain": [
       "[<matplotlib.lines.Line2D at 0x28d48763090>]"
      ]
     },
     "execution_count": 5,
     "metadata": {},
     "output_type": "execute_result"
    },
    {
     "data": {
      "image/png": "[encoded data removed]",
      "text/plain": [
       "<Figure size 640x480 with 1 Axes>"
      ]
     },
     "metadata": {},
     "output_type": "display_data"
    }
   ],
   "source": [
    "import matplotlib.pyplot as plt\n",
    "\n",
    "blue_color = \"#7CB9E8\"\n",
    "yellow_color = \"gold\"\n",
    "\n",
    "plt.scatter(cones_left[:, 0], cones_left[:, 1], c=blue_color, label=\"left\")\n",
    "plt.scatter(cones_right[:, 0], cones_right[:, 1], c=yellow_color, label=\"right\")\n",
    "plt.scatter(cones_unknown[:, 0], cones_unknown[:, 1], c=\"k\", label=\"unknown\")\n",
    "plt.legend()\n",
    "plt.plot(\n",
    "    [car_position[0], car_position[0] + car_direction[0]],\n",
    "    [car_position[1], car_position[1] + car_direction[1]],\n",
    "    c=\"k\",\n",
    ")\n"
   ]
  },
  {
   "attachments": {},
   "cell_type": "markdown",
   "metadata": {},
   "source": [
    "## Path planning\n",
    "\n",
    "The following cells show how to use the `PathPlanner` class. \n",
    "\n",
    "First we import the class as well as the mission and cone type enums."
   ]
  },
  {
   "cell_type": "code",
   "execution_count": 6,
   "metadata": {},
   "outputs": [],
   "source": [
    "from fsd_path_planning import PathPlanner, MissionTypes, ConeTypes\n"
   ]
  },
  {
   "attachments": {},
   "cell_type": "markdown",
   "metadata": {},
   "source": [
    "Now we create an instance of the `PathPlanner` class. The constuctor takes the mission type as an argument."
   ]
  },
  {
   "cell_type": "code",
   "execution_count": 7,
   "metadata": {},
   "outputs": [],
   "source": [
    "planner = PathPlanner(MissionTypes.trackdrive)\n"
   ]
  },
  {
   "attachments": {},
   "cell_type": "markdown",
   "metadata": {},
   "source": [
    "We will now setup the inputs for the actual path calculation.\n",
    "\n",
    "The cones are given to the path planner as a list of 2D numpy arrays. The list contains five arrays, each representing cones of different colors. See the `ConeTypes` class to see the actual indices of the different cone colors."
   ]
  },
  {
   "cell_type": "code",
   "execution_count": 8,
   "metadata": {},
   "outputs": [
    {
     "name": "stdout",
     "output_type": "stream",
     "text": [
      "0 = 0\n",
      "1 = 1\n",
      "2 = 2\n",
      "3 = 3\n",
      "4 = 4\n"
     ]
    }
   ],
   "source": [
    "for i, c in enumerate(ConeTypes):\n",
    "    print(c, f\"= {i}\")\n",
    "\n",
    "cones_by_type = [np.zeros((0, 2)) for _ in range(5)]\n",
    "cones_by_type[ConeTypes.LEFT] = cones_left\n",
    "cones_by_type[ConeTypes.RIGHT] = cones_right\n",
    "cones_by_type[ConeTypes.UNKNOWN] = cones_unknown\n"
   ]
  },
  {
   "attachments": {},
   "cell_type": "markdown",
   "metadata": {},
   "source": [
    "We are now ready to calculate the path. The `calculate_path_in_global_frame` function receives the car's position and direction as well as the list of 2D numpy arrays containing the cone positions. It returns a 2D numpy array containing the centerline points. The function can optionally return the intermediate results of the algorithm. This is useful for debugging and visualization, which we will do in the following cells."
   ]
  },
  {
   "cell_type": "code",
   "execution_count": 18,
   "metadata": {},
   "outputs": [],
   "source": [
    "out = planner.calculate_path_in_global_frame(\n",
    "    cones_by_type, car_position, car_direction, return_intermediate_results=True\n",
    ")\n",
    "\n",
    "(\n",
    "    path,\n",
    "    sorted_left,\n",
    "    sorted_right,\n",
    "    left_cones_with_virtual,\n",
    "    right_cones_with_virtual,\n",
    "    left_to_right_match,\n",
    "    right_to_left_match,\n",
    ") = out"
   ]
  },
  {
   "cell_type": "code",
   "execution_count": null,
   "metadata": {},
   "outputs": [],
   "source": [
    "# you can uncomment the following line to get an approximate speed profile\n",
    "# %timeit planner.calculate_path_in_global_frame(cones_by_type, car_position, car_direction)\n"
   ]
  },
  {
   "cell_type": "code",
   "execution_count": 19,
   "metadata": {},
   "outputs": [
    {
     "data": {
      "text/plain": [
       "(array([[ 0.00000000e+00, -1.16208793e-02, -3.53812813e-02,\n",
       "          9.93372162e-02],\n",
       "        [ 4.95613738e-01,  4.78315326e-01,  9.08233198e-03,\n",
       "          9.88173374e-02],\n",
       "        [ 9.91227475e-01,  9.66051600e-01,  7.81232735e-02,\n",
       "          9.81048869e-02],\n",
       "        [ 1.48684121e+00,  1.45053198e+00,  1.71179252e-01,\n",
       "          9.72341724e-02],\n",
       "        [ 1.98245495e+00,  1.93070049e+00,  2.87687975e-01,\n",
       "          9.62717688e-02],\n",
       "        [ 2.47806869e+00,  2.40550117e+00,  4.27087153e-01,\n",
       "          9.52702439e-02],\n",
       "        [ 2.97368243e+00,  2.87387805e+00,  5.88814492e-01,\n",
       "          9.42840083e-02],\n",
       "        [ 3.46929616e+00,  3.33477517e+00,  7.72307703e-01,\n",
       "          9.34331842e-02],\n",
       "        [ 3.96490990e+00,  3.78713656e+00,  9.77004492e-01,\n",
       "          9.28765284e-02],\n",
       "        [ 4.46052364e+00,  4.22990626e+00,  1.20234257e+00,\n",
       "          9.26194750e-02],\n",
       "        [ 4.95613738e+00,  4.66202829e+00,  1.44775964e+00,\n",
       "          9.26637264e-02],\n",
       "        [ 5.45175111e+00,  5.08244669e+00,  1.71269342e+00,\n",
       "          9.30074509e-02],\n",
       "        [ 5.94736485e+00,  5.49010550e+00,  1.99658162e+00,\n",
       "          9.36452221e-02],\n",
       "        [ 6.44297859e+00,  5.88394875e+00,  2.29886193e+00,\n",
       "          9.45677028e-02],\n",
       "        [ 6.93859233e+00,  6.26292047e+00,  2.61897207e+00,\n",
       "          9.57610876e-02],\n",
       "        [ 7.43420606e+00,  6.62596469e+00,  2.95634976e+00,\n",
       "          9.72036810e-02],\n",
       "        [ 7.92981980e+00,  6.97202546e+00,  3.31043269e+00,\n",
       "          9.87996092e-02],\n",
       "        [ 8.42543354e+00,  7.30004680e+00,  3.68065858e+00,\n",
       "          1.00225248e-01],\n",
       "        [ 8.92104728e+00,  7.60897274e+00,  4.06646513e+00,\n",
       "          1.00884667e-01],\n",
       "        [ 9.41666102e+00,  7.89774733e+00,  4.46729005e+00,\n",
       "          1.00009250e-01],\n",
       "        [ 1.00774793e+01,  8.24963520e+00,  5.02410042e+00,\n",
       "          9.52889559e-02],\n",
       "        [ 1.05730931e+01,  8.48859323e+00,  5.45714937e+00,\n",
       "          8.87528341e-02],\n",
       "        [ 1.10687068e+01,  8.70813498e+00,  5.90128881e+00,\n",
       "          7.98980647e-02],\n",
       "        [ 1.15643205e+01,  8.91030383e+00,  6.35446061e+00,\n",
       "          6.93369765e-02],\n",
       "        [ 1.20599343e+01,  9.09714316e+00,  6.81460663e+00,\n",
       "          5.82513648e-02],\n",
       "        [ 1.25555480e+01,  9.27071021e+00,  7.27967657e+00,\n",
       "          4.86143222e-02],\n",
       "        [ 1.30511618e+01,  9.43375548e+00,  7.74801101e+00,\n",
       "          4.28586347e-02],\n",
       "        [ 1.35467755e+01,  9.59003143e+00,  8.21851547e+00,\n",
       "          4.30280445e-02],\n",
       "        [ 1.40423892e+01,  9.74264462e+00,  8.69032185e+00,\n",
       "          4.97068288e-02],\n",
       "        [ 1.45380030e+01,  9.88743979e+00,  9.16438974e+00,\n",
       "          6.13722075e-02],\n",
       "        [ 1.50336167e+01,  1.00160883e+01,  9.64272653e+00,\n",
       "          7.49304998e-02],\n",
       "        [ 1.55292304e+01,  1.01224817e+01,  1.01263930e+01,\n",
       "          8.72777958e-02],\n",
       "        [ 1.60248442e+01,  1.02051575e+01,  1.06144868e+01,\n",
       "          9.66731053e-02],\n",
       "        [ 1.65204579e+01,  1.02632216e+01,  1.11058658e+01,\n",
       "          1.03045139e-01],\n",
       "        [ 1.70160717e+01,  1.02957798e+01,  1.15993877e+01,\n",
       "          1.07362983e-01],\n",
       "        [ 1.75116854e+01,  1.03019381e+01,  1.20939100e+01,\n",
       "          1.10487161e-01],\n",
       "        [ 1.80072991e+01,  1.02808021e+01,  1.25882907e+01,\n",
       "          1.13038982e-01],\n",
       "        [ 1.85029129e+01,  1.02314779e+01,  1.30813873e+01,\n",
       "          1.15163463e-01],\n",
       "        [ 1.89985266e+01,  1.01530713e+01,  1.35720575e+01,\n",
       "          1.16846774e-01],\n",
       "        [ 1.96593449e+01,  1.00017443e+01,  1.42205358e+01,\n",
       "          1.18422439e-01]]),\n",
       " array([[-0.72797725,  1.44864287],\n",
       "        [ 0.67993294,  1.5594478 ],\n",
       "        [ 2.0531757 ,  1.88913422],\n",
       "        [ 3.35793725,  2.42958415],\n",
       "        [ 4.56209002,  3.16748992],\n",
       "        [ 5.63598378,  4.08468184],\n",
       "        [ 6.5531757 ,  5.1585756 ],\n",
       "        [ 7.29108147,  6.36272837],\n",
       "        [ 7.8315314 ,  7.66748992],\n",
       "        [ 8.16121782,  9.04073268]]),\n",
       " array([[-0.72797725, -1.55135713],\n",
       "        [ 0.77602156, -1.45673355],\n",
       "        [ 2.2563014 , -1.17435506],\n",
       "        [ 3.68951739, -0.70867496],\n",
       "        [ 5.05306684, -0.06703729],\n",
       "        [ 6.32544578,  0.74043894],\n",
       "        [ 7.48658802,  1.70101934],\n",
       "        [ 8.51818167,  2.79955499],\n",
       "        [ 9.40395786,  4.01872133],\n",
       "        [10.12994738,  5.33929137],\n",
       "        [10.68470095,  6.74043894],\n",
       "        [11.05946976,  8.2000671 ]]),\n",
       " array([[-0.72797725,  1.44864287],\n",
       "        [ 0.67993294,  1.5594478 ],\n",
       "        [ 2.0531757 ,  1.88913422],\n",
       "        [ 3.35793725,  2.42958415],\n",
       "        [ 4.56209002,  3.16748992],\n",
       "        [ 5.63598378,  4.08468184],\n",
       "        [ 6.5531757 ,  5.1585756 ],\n",
       "        [ 7.29108147,  6.36272837],\n",
       "        [ 7.8315314 ,  7.66748992],\n",
       "        [ 8.16121782,  9.04073268]]),\n",
       " array([[-0.72797725, -1.55135713],\n",
       "        [ 0.77602156, -1.45673355],\n",
       "        [ 2.2563014 , -1.17435506],\n",
       "        [ 3.68951739, -0.70867496],\n",
       "        [ 5.05306684, -0.06703729],\n",
       "        [ 6.32544578,  0.74043894],\n",
       "        [ 7.48658802,  1.70101934],\n",
       "        [ 8.51818167,  2.79955499],\n",
       "        [ 9.40395786,  4.01872133],\n",
       "        [10.12994738,  5.33929137],\n",
       "        [10.68470095,  6.74043894],\n",
       "        [11.05946976,  8.2000671 ]]),\n",
       " array([ 0,  1,  2,  4,  5,  6,  7,  9, 10, 11], dtype=int64),\n",
       " array([0, 1, 2, 2, 3, 4, 5, 6, 6, 7, 8, 9], dtype=int64))"
      ]
     },
     "execution_count": 19,
     "metadata": {},
     "output_type": "execute_result"
    }
   ],
   "source": [
    "out"
   ]
  },
  {
   "cell_type": "code",
   "execution_count": 21,
   "metadata": {},
   "outputs": [
    {
     "ename": "ValueError",
     "evalue": "setting an array element with a sequence. The requested array has an inhomogeneous shape after 1 dimensions. The detected shape was (7,) + inhomogeneous part.",
     "output_type": "error",
     "traceback": [
      "\u001b[1;31m---------------------------------------------------------------------------\u001b[0m",
      "\u001b[1;31mValueError\u001b[0m                                Traceback (most recent call last)",
      "Cell \u001b[1;32mIn[21], line 1\u001b[0m\n\u001b[1;32m----> 1\u001b[0m df\u001b[38;5;241m=\u001b[39mpd\u001b[38;5;241m.\u001b[39mDataFrame(out,columns\u001b[38;5;241m=\u001b[39m[\u001b[38;5;124m'\u001b[39m\u001b[38;5;124mspline\u001b[39m\u001b[38;5;124m'\u001b[39m,\u001b[38;5;124m'\u001b[39m\u001b[38;5;124mx\u001b[39m\u001b[38;5;124m'\u001b[39m,\u001b[38;5;124m'\u001b[39m\u001b[38;5;124my\u001b[39m\u001b[38;5;124m'\u001b[39m,\u001b[38;5;124m'\u001b[39m\u001b[38;5;124mkappa\u001b[39m\u001b[38;5;124m'\u001b[39m])\n\u001b[0;32m      2\u001b[0m csv_filename \u001b[38;5;241m=\u001b[39m \u001b[38;5;124m'\u001b[39m\u001b[38;5;124mtrakoutput.csv\u001b[39m\u001b[38;5;124m'\u001b[39m\n\u001b[0;32m      3\u001b[0m df\u001b[38;5;241m.\u001b[39mto_csv(csv_filename, index\u001b[38;5;241m=\u001b[39m\u001b[38;5;28;01mFalse\u001b[39;00m)\n",
      "File \u001b[1;32mc:\\ProgramData\\anaconda3\\envs\\path_planner\\Lib\\site-packages\\pandas\\core\\frame.py:822\u001b[0m, in \u001b[0;36mDataFrame.__init__\u001b[1;34m(self, data, index, columns, dtype, copy)\u001b[0m\n\u001b[0;32m    814\u001b[0m         mgr \u001b[39m=\u001b[39m arrays_to_mgr(\n\u001b[0;32m    815\u001b[0m             arrays,\n\u001b[0;32m    816\u001b[0m             columns,\n\u001b[1;32m   (...)\u001b[0m\n\u001b[0;32m    819\u001b[0m             typ\u001b[39m=\u001b[39mmanager,\n\u001b[0;32m    820\u001b[0m         )\n\u001b[0;32m    821\u001b[0m     \u001b[39melse\u001b[39;00m:\n\u001b[1;32m--> 822\u001b[0m         mgr \u001b[39m=\u001b[39m ndarray_to_mgr(\n\u001b[0;32m    823\u001b[0m             data,\n\u001b[0;32m    824\u001b[0m             index,\n\u001b[0;32m    825\u001b[0m             columns,\n\u001b[0;32m    826\u001b[0m             dtype\u001b[39m=\u001b[39mdtype,\n\u001b[0;32m    827\u001b[0m             copy\u001b[39m=\u001b[39mcopy,\n\u001b[0;32m    828\u001b[0m             typ\u001b[39m=\u001b[39mmanager,\n\u001b[0;32m    829\u001b[0m         )\n\u001b[0;32m    830\u001b[0m \u001b[39melse\u001b[39;00m:\n\u001b[0;32m    831\u001b[0m     mgr \u001b[39m=\u001b[39m dict_to_mgr(\n\u001b[0;32m    832\u001b[0m         {},\n\u001b[0;32m    833\u001b[0m         index,\n\u001b[1;32m   (...)\u001b[0m\n\u001b[0;32m    836\u001b[0m         typ\u001b[39m=\u001b[39mmanager,\n\u001b[0;32m    837\u001b[0m     )\n",
      "File \u001b[1;32mc:\\ProgramData\\anaconda3\\envs\\path_planner\\Lib\\site-packages\\pandas\\core\\internals\\construction.py:319\u001b[0m, in \u001b[0;36mndarray_to_mgr\u001b[1;34m(values, index, columns, dtype, copy, typ)\u001b[0m\n\u001b[0;32m    314\u001b[0m     values \u001b[39m=\u001b[39m _ensure_2d(values)\n\u001b[0;32m    316\u001b[0m \u001b[39melse\u001b[39;00m:\n\u001b[0;32m    317\u001b[0m     \u001b[39m# by definition an array here\u001b[39;00m\n\u001b[0;32m    318\u001b[0m     \u001b[39m# the dtypes will be coerced to a single dtype\u001b[39;00m\n\u001b[1;32m--> 319\u001b[0m     values \u001b[39m=\u001b[39m _prep_ndarraylike(values, copy\u001b[39m=\u001b[39mcopy_on_sanitize)\n\u001b[0;32m    321\u001b[0m \u001b[39mif\u001b[39;00m dtype \u001b[39mis\u001b[39;00m \u001b[39mnot\u001b[39;00m \u001b[39mNone\u001b[39;00m \u001b[39mand\u001b[39;00m values\u001b[39m.\u001b[39mdtype \u001b[39m!=\u001b[39m dtype:\n\u001b[0;32m    322\u001b[0m     \u001b[39m# GH#40110 see similar check inside sanitize_array\u001b[39;00m\n\u001b[0;32m    323\u001b[0m     values \u001b[39m=\u001b[39m sanitize_array(\n\u001b[0;32m    324\u001b[0m         values,\n\u001b[0;32m    325\u001b[0m         \u001b[39mNone\u001b[39;00m,\n\u001b[1;32m   (...)\u001b[0m\n\u001b[0;32m    328\u001b[0m         allow_2d\u001b[39m=\u001b[39m\u001b[39mTrue\u001b[39;00m,\n\u001b[0;32m    329\u001b[0m     )\n",
      "File \u001b[1;32mc:\\ProgramData\\anaconda3\\envs\\path_planner\\Lib\\site-packages\\pandas\\core\\internals\\construction.py:575\u001b[0m, in \u001b[0;36m_prep_ndarraylike\u001b[1;34m(values, copy)\u001b[0m\n\u001b[0;32m    569\u001b[0m \u001b[39m# we could have a 1-dim or 2-dim list here\u001b[39;00m\n\u001b[0;32m    570\u001b[0m \u001b[39m# this is equiv of np.asarray, but does object conversion\u001b[39;00m\n\u001b[0;32m    571\u001b[0m \u001b[39m# and platform dtype preservation\u001b[39;00m\n\u001b[0;32m    572\u001b[0m \u001b[39m# does not convert e.g. [1, \"a\", True] to [\"1\", \"a\", \"True\"] like\u001b[39;00m\n\u001b[0;32m    573\u001b[0m \u001b[39m#  np.asarray would\u001b[39;00m\n\u001b[0;32m    574\u001b[0m \u001b[39mif\u001b[39;00m is_list_like(values[\u001b[39m0\u001b[39m]):\n\u001b[1;32m--> 575\u001b[0m     values \u001b[39m=\u001b[39m np\u001b[39m.\u001b[39marray([convert(v) \u001b[39mfor\u001b[39;00m v \u001b[39min\u001b[39;00m values])\n\u001b[0;32m    576\u001b[0m \u001b[39melif\u001b[39;00m \u001b[39misinstance\u001b[39m(values[\u001b[39m0\u001b[39m], np\u001b[39m.\u001b[39mndarray) \u001b[39mand\u001b[39;00m values[\u001b[39m0\u001b[39m]\u001b[39m.\u001b[39mndim \u001b[39m==\u001b[39m \u001b[39m0\u001b[39m:\n\u001b[0;32m    577\u001b[0m     \u001b[39m# GH#21861 see test_constructor_list_of_lists\u001b[39;00m\n\u001b[0;32m    578\u001b[0m     values \u001b[39m=\u001b[39m np\u001b[39m.\u001b[39marray([convert(v) \u001b[39mfor\u001b[39;00m v \u001b[39min\u001b[39;00m values])\n",
      "\u001b[1;31mValueError\u001b[0m: setting an array element with a sequence. The requested array has an inhomogeneous shape after 1 dimensions. The detected shape was (7,) + inhomogeneous part."
     ]
    }
   ],
   "source": [
    "df=pd.DataFrame(out,columns=['spline','x','y','kappa'])\n",
    "csv_filename = 'trakoutput.csv'\n",
    "df.to_csv(csv_filename, index=False)\n",
    "\n",
    "print(\"CSV file created using Method 2\")"
   ]
  },
  {
   "cell_type": "code",
   "execution_count": null,
   "metadata": {},
   "outputs": [],
   "source": [
    "results = np.array(out,dtype = \"object\")\n",
    "col = zip(*results)\n"
   ]
  },
  {
   "cell_type": "code",
   "execution_count": null,
   "metadata": {},
   "outputs": [],
   "source": [
    "col[1]"
   ]
  },
  {
   "cell_type": "code",
   "execution_count": 17,
   "metadata": {},
   "outputs": [
    {
     "name": "stdout",
     "output_type": "stream",
     "text": [
      "out 0\n"
     ]
    },
    {
     "ename": "TypeError",
     "evalue": "tuple indices must be integers or slices, not tuple",
     "output_type": "error",
     "traceback": [
      "\u001b[1;31m---------------------------------------------------------------------------\u001b[0m",
      "\u001b[1;31mTypeError\u001b[0m                                 Traceback (most recent call last)",
      "Cell \u001b[1;32mIn[17], line 2\u001b[0m\n\u001b[0;32m      1\u001b[0m \u001b[38;5;28mprint\u001b[39m(\u001b[38;5;124m'\u001b[39m\u001b[38;5;124mout 0\u001b[39m\u001b[38;5;124m'\u001b[39m)\n\u001b[1;32m----> 2\u001b[0m \u001b[38;5;28mprint\u001b[39m(out[:,[\u001b[38;5;241m0\u001b[39m]])\n\u001b[0;32m      3\u001b[0m \u001b[38;5;28mprint\u001b[39m(\u001b[38;5;124m'\u001b[39m\u001b[38;5;124mthis is out 1\u001b[39m\u001b[38;5;124m'\u001b[39m)\n\u001b[0;32m      4\u001b[0m \u001b[38;5;28mprint\u001b[39m(out[:,[\u001b[38;5;241m1\u001b[39m]])\n",
      "\u001b[1;31mTypeError\u001b[0m: tuple indices must be integers or slices, not tuple"
     ]
    }
   ],
   "source": [
    "print('out 0')\n",
    "print(out[:,[0]])\n",
    "print('this is out 1')\n",
    "print(out[:,[1]])\n",
    "print('this is out 2')\n",
    "print(out[:,[2]])\n",
    "print('this is out 3')\n",
    "print(out[:,[3]])\n",
    "print('this is out 4')\n",
    "print(out[:,[4]])"
   ]
  },
  {
   "attachments": {},
   "cell_type": "markdown",
   "metadata": {},
   "source": [
    "## Results\n",
    "\n",
    "We can now visualize the calculated path. The path is extrapolated/trimmed so that it has a specified length.\n",
    "\n",
    "In the next cell we will visualize the intermediate results of the algorithm. The intermediate results are returned by the `calculate_path_in_global_frame` function if the `return_intermediate_results` argument is set to `True`."
   ]
  },
  {
   "cell_type": "code",
   "execution_count": null,
   "metadata": {},
   "outputs": [],
   "source": [
    "plt.scatter(cones_left[:, 0], cones_left[:, 1], c=blue_color, label=\"left\")\n",
    "plt.scatter(cones_right[:, 0], cones_right[:, 1], c=yellow_color, label=\"right\")\n",
    "plt.scatter(cones_unknown[:, 0], cones_unknown[:, 1], c=\"k\", label=\"unknown\")\n",
    "\n",
    "plt.legend()\n",
    "\n",
    "plt.plot(\n",
    "    [car_position[0], car_position[0] + car_direction[0]],\n",
    "    [car_position[1], car_position[1] + car_direction[1]],\n",
    "    c=\"k\",\n",
    ")\n",
    "plt.title(\"Computed path\")\n",
    "plt.plot(*path[:, 1:3].T)\n",
    "\n",
    "plt.axis(\"equal\")\n",
    "\n",
    "plt.show()\n",
    "\n",
    "plt.title(\"Curvature over distance\")\n",
    "plt.plot(path[:, 0], path[:, 3])\n"
   ]
  },
  {
   "cell_type": "code",
   "execution_count": null,
   "metadata": {},
   "outputs": [],
   "source": [
    "all_cones = np.row_stack([cones_left, cones_right, cones_unknown])\n",
    "\n",
    "\n",
    "plt.plot(*all_cones.T, \"o\", c=\"k\")\n",
    "plt.plot(*sorted_left.T, \"o-\", c=blue_color)\n",
    "plt.plot(*sorted_right.T, \"o-\", c=yellow_color)\n",
    "plt.title(\"Sorted cones\")\n",
    "plt.axis(\"equal\")\n",
    "plt.show()\n",
    "\n",
    "\n",
    "plt.plot(*all_cones.T, \"o\", c=\"k\")\n",
    "plt.plot(*left_cones_with_virtual.T, \"o-\", c=blue_color)\n",
    "plt.plot(*right_cones_with_virtual.T, \"o-\", c=yellow_color)\n",
    "plt.title(\"Left and right cones with virtual cones\")\n",
    "plt.axis(\"equal\")\n",
    "plt.show()\n",
    "\n",
    "plt.plot(*all_cones.T, \"o\", c=\"k\")\n",
    "\n",
    "\n",
    "for left, right_idx in zip(left_cones_with_virtual, left_to_right_match):\n",
    "    plt.plot(\n",
    "        [left[0], right_cones_with_virtual[right_idx][0]],\n",
    "        [left[1], right_cones_with_virtual[right_idx][1]],\n",
    "        \"-\",\n",
    "        c=blue_color,\n",
    "    )\n",
    "\n",
    "\n",
    "for right, left_idx in zip(right_cones_with_virtual, right_to_left_match):\n",
    "    plt.plot(\n",
    "        [right[0], left_cones_with_virtual[left_idx][0]],\n",
    "        [right[1], left_cones_with_virtual[left_idx][1]],\n",
    "        \"-\",\n",
    "        c=yellow_color,\n",
    "        alpha=0.5,\n",
    "    )\n",
    "\n",
    "plt.title(\"Left and right matches\")\n",
    "plt.axis(\"equal\")\n"
   ]
  }
 ],
 "metadata": {
  "kernelspec": {
   "display_name": "Python 3.11.7 ('path_planner')",
   "language": "python",
   "name": "python3"
  },
  "language_info": {
   "codemirror_mode": {
    "name": "ipython",
    "version": 3
   },
   "file_extension": ".py",
   "mimetype": "text/x-python",
   "name": "python",
   "nbconvert_exporter": "python",
   "pygments_lexer": "ipython3",
   "version": "3.11.7"
  },
  "orig_nbformat": 4,
  "vscode": {
   "interpreter": {
    "hash": "f11855536325c0cfb386b19812e4b776801f5e080a9697ff98d17c8ab0b20455"
   }
  }
 },
 "nbformat": 4,
 "nbformat_minor": 2
}
